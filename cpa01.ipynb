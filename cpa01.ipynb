{
 "cells": [
  {
   "cell_type": "markdown",
   "id": "295c57cb",
   "metadata": {},
   "source": [
    "- running the Jupyter notebook and showing the markdown and code cells you created (Jupyter)\n",
    "- describe your dataset and the questions you were asking, and show the pandas code you wrote to read it in and show the columns and index and the table itself(pandas.read_csv)\n",
    "- show a pivot table you created and interpret it (pandas.pivot_table)\n",
    "- show the plot you made from the pivot table (pandas,plot) the plot should have labels on the axes and a title and a legend\n",
    "- show your use of groupby and interpret the results (pandas.groupby)\n",
    "- describe what your analysis tells you about the questions you asked (pandas.analysis)\n",
    "- upload links to the github repository and a link t your Zoom movie to the CPA01 problem on the Master-Programs site (with PIN 7297444)\n",
    "\n",
    "\n",
    "\n",
    "- https://fiscaldata.treasury.gov/datasets/treasury-reporting-rates-exchange/treasury-reporting-rates-of-exchange"
   ]
  },
  {
   "cell_type": "code",
   "execution_count": null,
   "id": "ebf27641",
   "metadata": {},
   "outputs": [],
   "source": [
    "import numpy as np\n",
    "import pandas as pd\n",
    "from matplotlib import pyplot as plt"
   ]
  },
  {
   "cell_type": "code",
   "execution_count": null,
   "id": "a214d68d",
   "metadata": {},
   "outputs": [],
   "source": [
    "df = pd.read_csv('data.csv')\n",
    "df"
   ]
  },
  {
   "cell_type": "code",
   "execution_count": null,
   "id": "9efe92bd",
   "metadata": {},
   "outputs": [],
   "source": [
    "df = df[df['Calendar Year'] >= 2003]\n",
    "df['Currency'] = df['Currency'].str.lower()\n",
    "df['Country'] = df['Country'].str.lower()\n",
    "group = df.groupby(['Country', 'Currency', 'Calendar Year'])['Exchange Rate'].agg([ np.min, np.mean, np.max]).round(2)"
   ]
  },
  {
   "cell_type": "code",
   "execution_count": null,
   "id": "64c1d955",
   "metadata": {},
   "outputs": [],
   "source": [
    "group = group.reset_index(level=['Currency'])\n",
    "group"
   ]
  },
  {
   "cell_type": "code",
   "execution_count": null,
   "id": "4aa9e0ad",
   "metadata": {},
   "outputs": [],
   "source": [
    "group_pt =  pd.pivot_table(group, values='mean', index=[\"Calendar Year\"], columns=[\"Country\"])\n",
    "group_pt"
   ]
  },
  {
   "cell_type": "code",
   "execution_count": null,
   "id": "bc5050e9",
   "metadata": {},
   "outputs": [],
   "source": [
    "group_pt[['afghanistan','nepal', 'india','bangladesh', 'sri lanka', 'pakistan', 'maldives']].plot(figsize=(15,10))\n",
    "plt.grid()\n",
    "plt.title(\"USD to South Asian Currency conversion rates\")"
   ]
  },
  {
   "cell_type": "code",
   "execution_count": null,
   "id": "10fa7e2f",
   "metadata": {},
   "outputs": [],
   "source": [
    "below_fhund = group[group['amax'] < 80 ]\n",
    "below_fhund =  pd.pivot_table(below_fhund, values='mean', index=[\"Calendar Year\"], columns=[\"Country\"])\n",
    "below_fhund.plot(figsize=(15,10))\n",
    "plt.legend([])\n",
    "group['amax'] < 100"
   ]
  },
  {
   "cell_type": "code",
   "execution_count": null,
   "id": "4fc32221",
   "metadata": {},
   "outputs": [],
   "source": []
  }
 ],
 "metadata": {
  "kernelspec": {
   "display_name": "Python 3 (ipykernel)",
   "language": "python",
   "name": "python3"
  },
  "language_info": {
   "codemirror_mode": {
    "name": "ipython",
    "version": 3
   },
   "file_extension": ".py",
   "mimetype": "text/x-python",
   "name": "python",
   "nbconvert_exporter": "python",
   "pygments_lexer": "ipython3",
   "version": "3.9.7"
  }
 },
 "nbformat": 4,
 "nbformat_minor": 5
}
